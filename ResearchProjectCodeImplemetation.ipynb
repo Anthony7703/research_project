{
 "cells": [
  {
   "cell_type": "markdown",
   "id": "bac43507",
   "metadata": {},
   "source": [
    "### Project Implementation Introduction\n",
    "\n",
    "<p>\n",
    "    Introductory Paragraph\n",
    "</p>"
   ]
  },
  {
   "cell_type": "code",
   "execution_count": 1,
   "id": "c7be1adb",
   "metadata": {},
   "outputs": [
    {
     "data": {
      "text/html": [
       " \n",
       "    <style>\n",
       "        .output_png {\n",
       "            display: table-cell;\n",
       "            text-align: center;\n",
       "            vertical-align: middle;\n",
       "        }\n",
       "    </style> \n"
      ],
      "text/plain": [
       "<IPython.core.display.HTML object>"
      ]
     },
     "execution_count": 1,
     "metadata": {},
     "output_type": "execute_result"
    }
   ],
   "source": [
    "# Python libraries used retrieve dataset path information and time module to estimate model running time\n",
    "import os\n",
    "import time\n",
    "import warnings\n",
    "\n",
    "# Turn off warnings completely for the Notebook\n",
    "warnings.filterwarnings('ignore')\n",
    "\n",
    "# Python libraries used import dataset as a dataframe into the IDE, perform array manipulations\n",
    "# and data visualization\n",
    "import pandas as pd\n",
    "import numpy as np\n",
    "import seaborn as sns\n",
    "import matplotlib.pyplot as plt\n",
    "\n",
    "# Python libraries used to preprocess dataset i.e. split the dataset into training set and testing set and also\n",
    "# to standardize the dataset (optimize the dataset)\n",
    "from sklearn.model_selection import train_test_split, GridSearchCV\n",
    "from sklearn.preprocessing import MinMaxScaler, StandardScaler\n",
    "\n",
    "# Supervised Learning models (Classifiers) used to implement the models\n",
    "from sklearn.naive_bayes import GaussianNB\n",
    "from sklearn import svm\n",
    "from sklearn.tree import DecisionTreeClassifier \n",
    "from sklearn.ensemble import RandomForestClassifier\n",
    "\n",
    "# Evaluation Metrics used to analyze the performance of the implemented models\n",
    "from sklearn.metrics import roc_auc_score, confusion_matrix, classification_report\n",
    "from imblearn.metrics import geometric_mean_score\n",
    "\n",
    "# SMOTE technique used to eliminate the imbalance in the dataset\n",
    "from imblearn.over_sampling import SMOTE\n",
    "\n",
    "# tensorflow keras Library used to implement the Artificial Neural Network (ANN)\n",
    "from tensorflow.keras.models import Sequential\n",
    "from tensorflow.keras.layers import *\n",
    "from tensorflow.keras.optimizers import *\n",
    "from tensorflow.keras.losses import *\n",
    "from keras.wrappers.scikit_learn import KerasClassifier\n",
    "\n",
    "# Evaluation Metrics used to analyze the performance of the ANN\n",
    "from tensorflow.keras.metrics import *\n",
    "\n",
    "from IPython.core.interactiveshell import InteractiveShell\n",
    "from IPython.core.display import HTML as Center\n",
    "\n",
    "Center(\"\"\" \n",
    "    <style>\n",
    "        .output_png {\n",
    "            display: table-cell;\n",
    "            text-align: center;\n",
    "            vertical-align: middle;\n",
    "        }\n",
    "    </style> \n",
    "\"\"\")"
   ]
  },
  {
   "cell_type": "code",
   "execution_count": null,
   "id": "89eb1271",
   "metadata": {},
   "outputs": [],
   "source": []
  }
 ],
 "metadata": {
  "kernelspec": {
   "display_name": "Python 3 (ipykernel)",
   "language": "python",
   "name": "python3"
  },
  "language_info": {
   "codemirror_mode": {
    "name": "ipython",
    "version": 3
   },
   "file_extension": ".py",
   "mimetype": "text/x-python",
   "name": "python",
   "nbconvert_exporter": "python",
   "pygments_lexer": "ipython3",
   "version": "3.10.6"
  }
 },
 "nbformat": 4,
 "nbformat_minor": 5
}
